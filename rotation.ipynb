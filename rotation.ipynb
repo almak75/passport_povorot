{
 "cells": [
  {
   "cell_type": "code",
   "execution_count": 1,
   "id": "f4fa3925",
   "metadata": {},
   "outputs": [],
   "source": [
    "import torch\n",
    "import math\n",
    "import numpy as np \n",
    "import cv2"
   ]
  },
  {
   "cell_type": "code",
   "execution_count": 2,
   "id": "b507d165",
   "metadata": {},
   "outputs": [],
   "source": [
    "#!python train.py --img 640 --batch-size -1 --epochs 1000 --data passport_rotation7.yaml --weights yolov5m.pt --hyp hyp.passport.rotation7.yaml --cache 'ram' --workers 0"
   ]
  },
  {
   "cell_type": "code",
   "execution_count": 9,
   "id": "01654186",
   "metadata": {},
   "outputs": [
    {
     "name": "stderr",
     "output_type": "stream",
     "text": [
      "Using cache found in C:\\Users\\Алексей/.cache\\torch\\hub\\ultralytics_yolov5_master\n",
      "YOLOv5  2022-8-24 Python-3.8.13 torch-1.11.0 CUDA:0 (NVIDIA GeForce RTX 3060 Laptop GPU, 6144MiB)\n",
      "\n",
      "Fusing layers... \n",
      "Model summary: 290 layers, 20856975 parameters, 0 gradients, 47.9 GFLOPs\n",
      "Adding AutoShape... \n"
     ]
    }
   ],
   "source": [
    "model = torch.hub.load('ultralytics/yolov5','custom',  path='povorot7.pt') #работает, но загружает каждый раз"
   ]
  },
  {
   "cell_type": "code",
   "execution_count": 10,
   "id": "65594de3",
   "metadata": {},
   "outputs": [],
   "source": [
    "#надо повернуть так, чтобы обрезки не произошло.\n",
    "#https://stackoverflow.com/questions/43892506/opencv-python-rotate-image-without-cropping-side\n",
    "def rotate_image(mat, angle, point):\n",
    "   \n",
    "\n",
    "    height, width = mat.shape[:2] # image shape has 3 dimensions\n",
    "    image_center = (width/2, height/2) # getRotationMatrix2D needs coordinates in reverse order (width, height) compared to shape\n",
    "    #image_center = point\n",
    "\n",
    "    rotation_mat = cv2.getRotationMatrix2D(image_center, angle, 1.)\n",
    "\n",
    "    # rotation calculates the cos and sin, taking absolutes of those.\n",
    "    abs_cos = abs(rotation_mat[0,0]) \n",
    "    abs_sin = abs(rotation_mat[0,1])\n",
    "\n",
    "    # find the new width and height bounds\n",
    "    bound_w = int(height * abs_sin + width * abs_cos)\n",
    "    bound_h = int(height * abs_cos + width * abs_sin)\n",
    "\n",
    "    # subtract old image center (bringing image back to origo) and adding the new image center coordinates\n",
    "    rotation_mat[0, 2] += bound_w/2 - image_center[0]\n",
    "    rotation_mat[1, 2] += bound_h/2 - image_center[1]\n",
    "\n",
    "    # rotate image with the new bounds and translated rotation matrix\n",
    "    rotated_mat = cv2.warpAffine(mat, rotation_mat, (bound_w, bound_h))\n",
    "    return rotated_mat"
   ]
  },
  {
   "cell_type": "code",
   "execution_count": 11,
   "id": "3fc98de4",
   "metadata": {},
   "outputs": [],
   "source": [
    "def get_crop(file):\n",
    "    results = model(file)\n",
    "    pd = results.pandas().xyxy[0]\n",
    "    pd = pd.assign(centre_x = pd.xmin + (pd.xmax-pd.xmin)/2)\n",
    "    pd = pd.assign(centre_y = pd.ymin + (pd.ymax-pd.ymin)/2)\n",
    "    x = pd.centre_x.to_list()\n",
    "    y = pd.centre_y.to_list()\n",
    "    #print(pd)\n",
    "    \n",
    "    #считаем прижатось к каждой оси, чтобы не считать тан 90 и так получается точнее, нет углов 89.99999999\n",
    "    delta_x = max(x) - min(x)\n",
    "    delta_y = max(y) - min(y)\n",
    "    #print('delta_x  delta_y', delta_x,delta_y)\n",
    "    if delta_x > delta_y:\n",
    "        var = 1 #больше прижата к Х\n",
    "    else: \n",
    "        var = 2 #больше прижата к У\n",
    "    if var == 1:\n",
    "        koef = np.polyfit(np.array(x),np.array(y),  1)\n",
    "        degree = math.degrees(math.atan(koef[0]))\n",
    "    else:\n",
    "        koef = np.polyfit(np.array(y),np.array(x),  1)\n",
    "        degree = math.degrees(math.atan(koef[0]))\n",
    "        #print('Угол во втором варианте',degree)\n",
    "        if degree > 0:\n",
    "            degree = 90  - degree\n",
    "        elif degree == 0: #не убирать\n",
    "            degree = 0\n",
    "        else:\n",
    "            degree =  - (90+ degree)\n",
    "    #print('Угол по расчетному коэффициенту', degree)         \n",
    "            \n",
    "    #получим координаты нижней части там где фото\n",
    "    #///// может это можно по другому написать, но так работает мгновенно, остальные мои вараинты почему то тупят.\n",
    "    tmp = pd.loc[pd['name']=='niz']\n",
    "    for index, row in tmp.iterrows(): \n",
    "        N = (row['centre_x'], row['centre_y'])\n",
    "        break\n",
    "    #получим координаты верха, там где печать\n",
    "    tmp = pd.loc[pd['name']=='verh']\n",
    "    for index, row in tmp.iterrows(): \n",
    "        V = (row['centre_x'], row['centre_y'])\n",
    "        break\n",
    "    #V и N - это центры верха и низа\n",
    "    #print('var ',var)\n",
    "    \n",
    "    #смотрим на какой угол повернуть. Не много математики\n",
    "    #if var == 1:\n",
    "    if N[0] > V[0]:\n",
    "        print('низ справа')\n",
    "        degree = -(90 - degree) \n",
    "    else:\n",
    "        print('низ слева')\n",
    "        degree = (90 + degree)\n",
    "\n",
    "    img = cv2.imread(file)             #читаем файл\n",
    "    img = rotate_image(img, degree,N)  #вращаем той процедурой, что выше\n",
    "    \n",
    "    #tmp_file = \"Y:\\\\1.jpg\" #можно сохранить повернутый, но еще не обрезанный результат\n",
    "    #cv2.imwrite(tmp_file, img)\n",
    "    \n",
    "    results = model(img)\n",
    "    \n",
    "    pd = results.pandas().xyxy[0]\n",
    "    #определяем координаты вырезки\n",
    "    x1 =int(pd.xmin.min())\n",
    "    x2 = int(pd.xmax.max())\n",
    "    \n",
    "    y1 = int(pd.ymin.min())\n",
    "    y2 = int(pd.ymax.max())\n",
    "    \n",
    "    crop_img = img[y1:y2,x1:x2]\n",
    "    \n",
    "    #tmp_file = \"Y:\\\\2.jpg\"\n",
    "    #cv2.imwrite(tmp_file, crop_img)\n",
    "    #return tmp_file\n",
    "    #здесь можно вернуть файл или можно вернуть img\n",
    "    return crop_img"
   ]
  },
  {
   "cell_type": "code",
   "execution_count": null,
   "id": "83207c33",
   "metadata": {},
   "outputs": [],
   "source": [
    "#берем файл, \n",
    "f ='Y:\\\\test\\\\22.jpg'\n",
    "#отправляем его на поворот и кроп.\n",
    "img = get_crop(f)"
   ]
  },
  {
   "cell_type": "code",
   "execution_count": null,
   "id": "28a4411f",
   "metadata": {},
   "outputs": [],
   "source": []
  }
 ],
 "metadata": {
  "kernelspec": {
   "display_name": "Python 3 (ipykernel)",
   "language": "python",
   "name": "python3"
  },
  "language_info": {
   "codemirror_mode": {
    "name": "ipython",
    "version": 3
   },
   "file_extension": ".py",
   "mimetype": "text/x-python",
   "name": "python",
   "nbconvert_exporter": "python",
   "pygments_lexer": "ipython3",
   "version": "3.8.13"
  }
 },
 "nbformat": 4,
 "nbformat_minor": 5
}
